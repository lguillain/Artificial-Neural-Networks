{
 "cells": [
  {
   "cell_type": "markdown",
   "metadata": {},
   "source": [
    "# Miniproject 2: Melody generation\n",
    "\n",
    "## Introduction\n",
    "\n",
    "### Description\n",
    "\n",
    "To develop a model employing ANN on real-world data requires going through several major steps, each of which with important design choices that directly impact the end results. In this project, we guide you through these choices starting from a large database of [Irish folk melodies](https://github.com/IraKorshunova/folk-rnn/tree/master/data) to your own model of symbolic music composition. \n",
    "\n",
    "\n",
    "### Prerequisites\n",
    "\n",
    "- You should have a running installation of [tensorflow](https://www.tensorflow.org/install/) and [keras](https://keras.io/).\n",
    "- You should know the concepts \"recurrent neural networks\", \"LSTM\", \"training and validation data\", \"overfitting\" and \"early stopping\".\n",
    "\n",
    "### What you will learn\n",
    "\n",
    "- You will be guided through a data processing procedure and understand the importance of design choices in ANN modeling\n",
    "- You will learn how to define recurrent neural networks in keras and fit them to data.\n",
    "- You will be guided through a prototyping procedure for the application of deep learning to a specific domain.\n",
    "- You will get in contact with concepts discussed later in the lecture, like \"overfitting\", \"LSTM network\", and \"Generative model\".\n",
    "- You will learn to be more patient :) Some fits may take your computer quite a bit of time; run them over night.\n",
    "\n",
    "### Evaluation criteria\n",
    "\n",
    "The evaluation is (mostly) based on the figures you submit and your answer sentences. \n",
    "We will only do random tests of your code and not re-run the full notebook. Please ensure that your notebook is fully executed before handing it in. "
   ]
  },
  {
   "cell_type": "markdown",
   "metadata": {},
   "source": [
    "## Functions and imports\n",
    "\n",
    "For your convenience we import some libraries and provide some functions below. Some libraries (`midi` and `music21==5.1.0`) should be added. If you work with the docker image, pull it `docker pull zifeo/artificial-neural-networks:cpu` before to get the latest version where these libraries are added and stop/relaunch the container (as stated in the instructions https://github.com/zifeo/artificial-neural-networks). If you work locally, be sure to import them. If you do not find the midi library for python3, install it with `python setup.py install` inside the `python3-midi` folder after cloning https://github.com/louisabraham/python3-midi.git.\n",
    "\n",
    "Finally, fill in your sciper number(s) for the random seed and simply run the following cell."
   ]
  },
  {
   "cell_type": "code",
   "execution_count": 12,
   "metadata": {},
   "outputs": [],
   "source": [
    "sciper = {'student_1': 233984, \n",
    "          'student_2': 285467}\n",
    "seed = sciper['student_1']+sciper['student_2']\n",
    "\n",
    "%matplotlib inline\n",
    "\n",
    "import numpy as np\n",
    "import matplotlib.pyplot as plt\n",
    "import os, sys\n",
    "\n",
    "plt.rcParams['font.size'] = 28\n",
    "plt.style.use('ggplot')\n",
    "plt.rcParams[\"axes.grid\"] = False\n",
    "c = plt.rcParams['axes.prop_cycle'].by_key()['color']\n",
    "plt.rcParams['figure.figsize'] = 8, 4\n",
    "\n",
    "import keras\n",
    "from keras.models import Model, load_model\n",
    "from keras.layers import Input, Masking, TimeDistributed, Dense, Concatenate, Dropout, LSTM, GRU, SimpleRNN\n",
    "from keras.optimizers import Adam\n",
    "from keras.utils import np_utils\n",
    "from keras.preprocessing.sequence import pad_sequences\n",
    "from keras.callbacks import ModelCheckpoint\n",
    "\n",
    "import midi\n",
    "import music21"
   ]
  },
  {
   "cell_type": "code",
   "execution_count": 13,
   "metadata": {},
   "outputs": [],
   "source": [
    "def plotMelody(P, T, dictionaries, PrP=None, PrT=None, H=None):\n",
    "    \"\"\"\n",
    "    P: The pitch array (integer representation) or matrix (one-hot encoding)\n",
    "    T: The duration array (integer representation) or matrix (one-hot encoding)\n",
    "    dictionaries: The dictionaries relating integer to a pitch or duration\n",
    "    PrP: (Optional) If provided with PrT, plot the transition probabilities\n",
    "    PrT: (Optional) If provided with PrP, plot the transition probabilities\n",
    "    H: (Optional) Add a plot with the hidden state dynamic sorted by frequency\n",
    "    \"\"\"\n",
    "    P = np.asarray(P)\n",
    "    T = np.asarray(T)\n",
    "    if len(P.shape) == 1:#if array\n",
    "        P = np_utils.to_categorical(P, len(dictionaries['P']))\n",
    "    if len(T.shape) == 1:#if array\n",
    "        T = np_utils.to_categorical(T, len(dictionaries['T']))\n",
    "    \n",
    "    xlim = [-1,np.where(P==1)[0][-1]+1]\n",
    "    \n",
    "    activeidxes = np.where(np.sum(P, axis=0)>1.)[0]\n",
    "    plt.figure(figsize=(8,4))\n",
    "    if PrP is not None:\n",
    "        targets = np.where(P[:,activeidxes]==1)\n",
    "        plt.imshow(PrP[:,activeidxes].T, origin='lower', aspect='auto', interpolation='nearest', cmap=plt.cm.gray_r, vmin=0, vmax=1)\n",
    "        plt.scatter(targets[0]-1,targets[1], color='red',s=10, marker='.') \n",
    "    else:\n",
    "        plt.imshow(P[:,activeidxes].T, origin='lower', aspect='auto', interpolation='nearest', cmap=plt.cm.gray_r, vmin=0, vmax=1)\n",
    "    plt.ylim([-0.5,len(activeidxes)-0.5])\n",
    "    plt.yticks(range(len(activeidxes)),[dictionaries[\"P\"][i] for i in activeidxes])\n",
    "    plt.tight_layout()\n",
    "    plt.xlabel(\"$n$\")\n",
    "    plt.ylabel(\"$P[n]$\")\n",
    "    plt.xlim(xlim)\n",
    "    plt.show()\n",
    "    \n",
    "    activeidxes = np.where(np.sum(T, axis=0)>1.)[0]\n",
    "    plt.figure(figsize=(8,4))\n",
    "    if PrT is not None:\n",
    "        targets = np.where(T[:,activeidxes]==1)\n",
    "        plt.imshow(PrT[:,activeidxes].T, origin='lower', aspect='auto', interpolation='nearest', cmap=plt.cm.gray_r, vmin=0, vmax=1)\n",
    "        plt.scatter(targets[0]-1,targets[1], color='red',s=10, marker='.')\n",
    "    else:\n",
    "        plt.imshow(T[:,activeidxes].T, origin='lower', aspect='auto', interpolation='nearest', cmap=plt.cm.gray_r, vmin=0, vmax=1)\n",
    "    plt.ylim([-0.5,len(activeidxes)-0.5])\n",
    "    plt.yticks(range(len(activeidxes)),[dictionaries[\"T\"][i] for i in activeidxes])\n",
    "    plt.tight_layout()\n",
    "    plt.xlabel(\"$n$\")\n",
    "    plt.ylabel(\"$T[n]$\")\n",
    "    plt.xlim(xlim)\n",
    "    plt.show()\n",
    "    \n",
    "    \n",
    "    if H is not None:\n",
    "        diff = np.mean([[abs(j-i) for i,j in zip(H[:xlim[1]-1,k], H[1:xlim[1],k])] for k in range(H.shape[1])], axis=1)\n",
    "        sortidx = np.argsort(-diff)\n",
    "        H = H[:,sortidx]\n",
    "        plt.figure(figsize=(8,4))\n",
    "        plt.imshow(H.T, origin='lower', aspect='auto', interpolation='nearest', cmap=plt.cm.seismic, vmin=-1, vmax=1)\n",
    "        plt.xlim([-1,np.where(T==1)[0][-1]+1])\n",
    "        plt.tight_layout()\n",
    "        plt.xlabel(\"$n$\")\n",
    "        plt.ylabel(\"$H[n]$\")\n",
    "        plt.show()\n",
    "\n",
    "\n",
    "def plotLearningCurves(History):\n",
    "    \n",
    "    log = History.history\n",
    "    \n",
    "    plt.figure(figsize=(8,4))\n",
    "    plt.plot(log['YP_loss'], '--', c=c[0], label='Pitch train loss')\n",
    "    plt.plot(log['val_YP_loss'], c=c[0], label='Pitch val loss')\n",
    "    \n",
    "    plt.plot(log['YT_loss'], '--', c=c[1], label='Dur train loss')\n",
    "    plt.plot(log['val_YT_loss'], c=c[1], label='Dur val loss')\n",
    "    plt.legend(loc='best')\n",
    "    \n",
    "    plt.figure(figsize=(8,4))\n",
    "    plt.plot(log['YP_acc'], '--', c=c[0], label='Pitch train acc')\n",
    "    plt.plot(log['val_YP_acc'], c=c[0], label='Pitch val acc')\n",
    "    \n",
    "    plt.plot(log['YT_acc'], '--', c=c[1], label='Dur train acc')\n",
    "    plt.plot(log['val_YT_acc'], c=c[1], label='Dur val acc')\n",
    "    plt.legend(loc='best')\n",
    "\n",
    "def sample(preds, temperature=1.):\n",
    "    \"\"\"Helper function to sample an index from a probability array\"\"\"\n",
    "    preds = np.asarray(preds).astype('float64')\n",
    "    preds = np.log(preds) / temperature\n",
    "    exp_preds = np.exp(preds)\n",
    "    preds = exp_preds / np.sum(exp_preds)\n",
    "    probas = np.random.multinomial(1, preds, 1)\n",
    "    return np.argmax(probas)\n",
    "\n",
    "def writeMIDI(xP, xT, dictionaries, label):\n",
    "\n",
    "    # Instantiate a MIDI Pattern (contains a list of tracks)\n",
    "    pattern = midi.Pattern(format = 0, resolution=480)\n",
    "    # Instantiate a MIDI Track (contains a list of MIDI events)\n",
    "    track = midi.Track()\n",
    "    # Append the track to the pattern\n",
    "    pattern.append(track)\n",
    "    Events = []\n",
    "    \n",
    "    pseq = [dictionaries['P'][p] for p in xP]\n",
    "    tseq = [dictionaries['T'][t] for t in xT]\n",
    "    for t, p in zip(tseq, pseq):\n",
    "        e = midi.NoteOnEvent(tick=0, velocity=90, pitch=p)\n",
    "        track.append(e)\n",
    "        e = midi.NoteOffEvent(tick=t, velocity=0, pitch=p)\n",
    "        track.append(e)\n",
    "        \n",
    "    eot = midi.EndOfTrackEvent(tick=1)\n",
    "    track.append(eot)\n",
    "    # Save the pattern to disk\n",
    "    midi.write_midifile(label, pattern)"
   ]
  },
  {
   "cell_type": "markdown",
   "metadata": {
    "collapsed": true
   },
   "source": [
    "## Exercise 7: Generation of new melodies\n",
    "### Description\n",
    "\n",
    "1. Use your trained best model to generate new melodies. You can do that by starting with a random note, feeding it to your network and sample the output predictions in order to select the next note. Then add this note to your iteratively growing melodies. For your convenience, we provided the `sample` and `writeMIDI` functions. You can use the first in order to perform temperature sampling. The `writeMIDI` function allows you to write a MIDI file from the integer representation.\n",
    "2. Try different sampling temperatures (e.g. 0.5, 1., 1.5) and observe the effect on your generated melodies.\n",
    "3. Generate 32 melodies with both the RNN and GRU models\n",
    "4. Listen to 4 randomly chosen melodies (2 from the GRU model and 2 from the RNN model). To play in a notebook, use a similar approach as the one shown below assuming you have the files `GRU_1.mid` and `RNN_1.mid` at the same level as this notebook. For your own curiosity, you can also directly listen to the MIDI files with your favorite MIDI player but make sure that we can listen to the 4 extracts directly from this notebook (without rerunning it). You might have to use the \"Trust notebook\" button (in the top right corner) to see the players. This currently only works in jupyter notebook (not jupyter lab). If you have trouble achieving that, upload the MIDI files with your submission.\n",
    "5. (Optional) If you have a big enough computing power, try adding multiple and bigger layers. You could also try to improve your model with different add-ons, e.g. make your model learn when a melody ends, extend it to other datasets, ...\n",
    "6. (Optional) If you are happy with your results submit a 1 hour long generated MIDI file to the [AI-generated music challenge](https://www.crowdai.org/challenges/ai-generated-music-challenge). "
   ]
  },
  {
   "cell_type": "markdown",
   "metadata": {},
   "source": [
    "### Solution"
   ]
  },
  {
   "cell_type": "code",
   "execution_count": 14,
   "metadata": {},
   "outputs": [],
   "source": [
    "import pickle"
   ]
  },
  {
   "cell_type": "code",
   "execution_count": 15,
   "metadata": {},
   "outputs": [],
   "source": [
    "maxlen = 393\n",
    "with open('data/dictionaries.pkl', 'rb') as f:\n",
    "    dictionaries = pickle.load(f)"
   ]
  },
  {
   "cell_type": "code",
   "execution_count": 16,
   "metadata": {},
   "outputs": [
    {
     "data": {
      "text/plain": [
       "((4395, 393, 55), (4395, 393, 19))"
      ]
     },
     "execution_count": 16,
     "metadata": {},
     "output_type": "execute_result"
    }
   ],
   "source": [
    "P_matrix = np.load('data/P_matrix.npy')\n",
    "T_matrix = np.load('data/T_matrix.npy')\n",
    "P_matrix.shape, T_matrix.shape"
   ]
  },
  {
   "cell_type": "code",
   "execution_count": 17,
   "metadata": {},
   "outputs": [],
   "source": [
    "def buildModel(dictionaries, batch_length, dropout=0.2, activation='GRU', Hsize=128):\n",
    "    X = dict()\n",
    "    H = dict()\n",
    "    M = dict()\n",
    "    Y = dict()\n",
    "    \n",
    "    X['T'] = Input(shape=(batch_length, len(dictionaries['T'])), name=\"XT\")\n",
    "    X['P'] = Input(shape=(batch_length, len(dictionaries['P'])), name=\"XP\")\n",
    "    \n",
    "    M['T'] = Masking(mask_value=0., name=\"MT\")(X['T'])\n",
    "    M['P'] = Masking(mask_value=0., name=\"MP\")(X['P'])\n",
    "    \n",
    "    H['1'] = Concatenate(name=\"MergeX\")([M['T'], M['P']])\n",
    "    if activation == 'GRU':\n",
    "        #Your hidden layer(s) architecture with GRU\n",
    "        H['2'] = GRU(Hsize, dropout=0.25, recurrent_dropout=0.25, return_sequences=True)(H['1'])\n",
    "    elif activation == 'LSTM':\n",
    "        #Your hidden layer(s) architecture with LSTM (For your own curiosity, not required for the project)\n",
    "        H['2'] = LSTM(Hsize, recurrent_dropout=0.25, return_sequences=True)(H['1'])\n",
    "    elif activation == 'RNN':\n",
    "        #Your hidden layer(s) architecture with SimpleRNN\n",
    "        H['2'] = SimpleRNN(Hsize, dropout=0.25, recurrent_dropout=0.25, return_sequences=True)(H['1'])\n",
    "    \n",
    "    Y['T'] = TimeDistributed(Dense(len(dictionaries['T']), activation='softmax'), name='YT')(H['2'])\n",
    "    Y['P'] = TimeDistributed(Dense(len(dictionaries['P']), activation='softmax'), name='YP')(H['2'])\n",
    "    \n",
    "    model = Model(inputs = [X['T'], X['P']], outputs = [Y['T'], Y['P']])\n",
    "    opt = Adam() \n",
    "    model.compile(\n",
    "        loss='categorical_crossentropy', \n",
    "        optimizer=opt,\n",
    "        metrics=['acc'])\n",
    "\n",
    "    return model"
   ]
  },
  {
   "cell_type": "markdown",
   "metadata": {},
   "source": [
    "Choose a random note from the dataset."
   ]
  },
  {
   "cell_type": "code",
   "execution_count": 24,
   "metadata": {},
   "outputs": [],
   "source": [
    "def get_note():\n",
    "    n1 = np.random.randint(4395)\n",
    "    n2 = np.random.randint(10)\n",
    "    #print(n1, n2)\n",
    "    P = P_matrix[n1, n2, :]\n",
    "    T = T_matrix[n1, n2, :]\n",
    "    P = P[:, np.newaxis]\n",
    "    T = T[:, np.newaxis]\n",
    "    #print(P.shape, T.shape)\n",
    "    P_padded = pad_sequences(P, maxlen=maxlen-1, padding='post').T[np.newaxis]\n",
    "    T_padded = pad_sequences(T, maxlen=maxlen-1, padding='post').T[np.newaxis]\n",
    "    #print(P_padded.shape, T_padded.shape)\n",
    "    return T_padded, P_padded"
   ]
  },
  {
   "cell_type": "markdown",
   "metadata": {},
   "source": [
    "#### GRU"
   ]
  },
  {
   "cell_type": "code",
   "execution_count": 22,
   "metadata": {},
   "outputs": [],
   "source": [
    "GRUmodel = buildModel(dictionaries, \n",
    "                      batch_length=maxlen-1, #Put here the number of notes (timesteps) you have in your Zero-padded matrices\n",
    "                      activation='GRU')\n",
    "\n",
    "with open('output/gru/weights_4.pkl', 'rb') as f:\n",
    "    GRUmodel.set_weights(pickle.load(f))"
   ]
  },
  {
   "cell_type": "code",
   "execution_count": 25,
   "metadata": {},
   "outputs": [],
   "source": [
    "note = get_note()\n",
    "melody = GRUmodel.predict([note[0], note[1]])"
   ]
  },
  {
   "cell_type": "code",
   "execution_count": 37,
   "metadata": {},
   "outputs": [],
   "source": [
    "temperatures = [0.5, 1.0, 1.5]\n",
    "for temperature in temperatures:\n",
    "    xP = np.array(list(map(lambda x: sample(x, temperature=temperature), melody[1][0])))\n",
    "    xT = np.array(list(map(lambda x: sample(x, temperature=temperature), melody[0][0])))\n",
    "    writeMIDI(xP, xT, dictionaries, 'melodies/temp/GRU_{}.mid'.format(int(temperature*100)))"
   ]
  },
  {
   "cell_type": "code",
   "execution_count": 34,
   "metadata": {},
   "outputs": [
    {
     "name": "stdout",
     "output_type": "stream",
     "text": [
      "GRU\n"
     ]
    },
    {
     "data": {
      "text/html": [
       "\n",
       "                <div id='midiPlayerDiv15727'></div>\n",
       "                <link rel=\"stylesheet\" href=\"//cuthbertLab.github.io/music21j/css/m21.css\"\n",
       "                    type=\"text/css\" />\n",
       "                <script>\n",
       "                require.config({\n",
       "                    paths: {'music21': '//cuthbertLab.github.io/music21j/src/music21'}\n",
       "                });\n",
       "                require(['music21'], function() {\n",
       "                               mp = new music21.miditools.MidiPlayer();\n",
       "                               mp.addPlayer('#midiPlayerDiv15727');\n",
       "                               mp.base64Load('data:audio/midi;base64,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');\n",
       "                        });\n",
       "                </script>"
      ],
      "text/plain": [
       "<IPython.core.display.HTML object>"
      ]
     },
     "metadata": {},
     "output_type": "display_data"
    }
   ],
   "source": [
    "print('GRU')\n",
    "music21.midi.translate.midiFilePathToStream('melodies/temp/GRU_50.mid').show('midi')"
   ]
  },
  {
   "cell_type": "code",
   "execution_count": 35,
   "metadata": {},
   "outputs": [
    {
     "name": "stdout",
     "output_type": "stream",
     "text": [
      "GRU\n"
     ]
    },
    {
     "data": {
      "text/html": [
       "\n",
       "                <div id='midiPlayerDiv19470'></div>\n",
       "                <link rel=\"stylesheet\" href=\"//cuthbertLab.github.io/music21j/css/m21.css\"\n",
       "                    type=\"text/css\" />\n",
       "                <script>\n",
       "                require.config({\n",
       "                    paths: {'music21': '//cuthbertLab.github.io/music21j/src/music21'}\n",
       "                });\n",
       "                require(['music21'], function() {\n",
       "                               mp = new music21.miditools.MidiPlayer();\n",
       "                               mp.addPlayer('#midiPlayerDiv19470');\n",
       "                               mp.base64Load('data:audio/midi;base64,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');\n",
       "                        });\n",
       "                </script>"
      ],
      "text/plain": [
       "<IPython.core.display.HTML object>"
      ]
     },
     "metadata": {},
     "output_type": "display_data"
    }
   ],
   "source": [
    "print('GRU')\n",
    "music21.midi.translate.midiFilePathToStream('melodies/temp/GRU_100.mid').show('midi')"
   ]
  },
  {
   "cell_type": "code",
   "execution_count": 39,
   "metadata": {},
   "outputs": [
    {
     "name": "stdout",
     "output_type": "stream",
     "text": [
      "GRU\n"
     ]
    },
    {
     "data": {
      "text/html": [
       "\n",
       "                <div id='midiPlayerDiv30852'></div>\n",
       "                <link rel=\"stylesheet\" href=\"//cuthbertLab.github.io/music21j/css/m21.css\"\n",
       "                    type=\"text/css\" />\n",
       "                <script>\n",
       "                require.config({\n",
       "                    paths: {'music21': '//cuthbertLab.github.io/music21j/src/music21'}\n",
       "                });\n",
       "                require(['music21'], function() {\n",
       "                               mp = new music21.miditools.MidiPlayer();\n",
       "                               mp.addPlayer('#midiPlayerDiv30852');\n",
       "                               mp.base64Load('data:audio/midi;base64,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');\n",
       "                        });\n",
       "                </script>"
      ],
      "text/plain": [
       "<IPython.core.display.HTML object>"
      ]
     },
     "metadata": {},
     "output_type": "display_data"
    }
   ],
   "source": [
    "print('GRU')\n",
    "music21.midi.translate.midiFilePathToStream('melodies/temp/GRU_150.mid').show('midi')"
   ]
  },
  {
   "cell_type": "code",
   "execution_count": 40,
   "metadata": {},
   "outputs": [],
   "source": [
    "for i in range(32):\n",
    "    note = get_note()\n",
    "    melody = GRUmodel.predict([note[0], note[1]])\n",
    "    xP = np.array(list(map(lambda x: sample(x), melody[1][0])))\n",
    "    xT = np.array(list(map(lambda x: sample(x), melody[0][0])))\n",
    "    writeMIDI(xP, xT, dictionaries, 'melodies/gru/GRU_{}.mid'.format(int(i)))"
   ]
  },
  {
   "cell_type": "code",
   "execution_count": 41,
   "metadata": {},
   "outputs": [],
   "source": [
    "def generate():\n",
    "    arr = np.arange(32)\n",
    "    for i in range(4):\n",
    "        n = np.random.randint(32-i)\n",
    "        yield arr[n]\n",
    "        del n"
   ]
  },
  {
   "cell_type": "code",
   "execution_count": 43,
   "metadata": {},
   "outputs": [
    {
     "name": "stdout",
     "output_type": "stream",
     "text": [
      "GRU\n",
      "22\n"
     ]
    },
    {
     "data": {
      "text/html": [
       "\n",
       "                <div id='midiPlayerDiv50350'></div>\n",
       "                <link rel=\"stylesheet\" href=\"//cuthbertLab.github.io/music21j/css/m21.css\"\n",
       "                    type=\"text/css\" />\n",
       "                <script>\n",
       "                require.config({\n",
       "                    paths: {'music21': '//cuthbertLab.github.io/music21j/src/music21'}\n",
       "                });\n",
       "                require(['music21'], function() {\n",
       "                               mp = new music21.miditools.MidiPlayer();\n",
       "                               mp.addPlayer('#midiPlayerDiv50350');\n",
       "                               mp.base64Load('data:audio/midi;base64,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');\n",
       "                        });\n",
       "                </script>"
      ],
      "text/plain": [
       "<IPython.core.display.HTML object>"
      ]
     },
     "metadata": {},
     "output_type": "display_data"
    },
    {
     "name": "stdout",
     "output_type": "stream",
     "text": [
      "21\n"
     ]
    },
    {
     "data": {
      "text/html": [
       "\n",
       "                <div id='midiPlayerDiv54327'></div>\n",
       "                <link rel=\"stylesheet\" href=\"//cuthbertLab.github.io/music21j/css/m21.css\"\n",
       "                    type=\"text/css\" />\n",
       "                <script>\n",
       "                require.config({\n",
       "                    paths: {'music21': '//cuthbertLab.github.io/music21j/src/music21'}\n",
       "                });\n",
       "                require(['music21'], function() {\n",
       "                               mp = new music21.miditools.MidiPlayer();\n",
       "                               mp.addPlayer('#midiPlayerDiv54327');\n",
       "                               mp.base64Load('data:audio/midi;base64,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');\n",
       "                        });\n",
       "                </script>"
      ],
      "text/plain": [
       "<IPython.core.display.HTML object>"
      ]
     },
     "metadata": {},
     "output_type": "display_data"
    },
    {
     "name": "stdout",
     "output_type": "stream",
     "text": [
      "26\n"
     ]
    },
    {
     "data": {
      "text/html": [
       "\n",
       "                <div id='midiPlayerDiv58124'></div>\n",
       "                <link rel=\"stylesheet\" href=\"//cuthbertLab.github.io/music21j/css/m21.css\"\n",
       "                    type=\"text/css\" />\n",
       "                <script>\n",
       "                require.config({\n",
       "                    paths: {'music21': '//cuthbertLab.github.io/music21j/src/music21'}\n",
       "                });\n",
       "                require(['music21'], function() {\n",
       "                               mp = new music21.miditools.MidiPlayer();\n",
       "                               mp.addPlayer('#midiPlayerDiv58124');\n",
       "                               mp.base64Load('data:audio/midi;base64,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');\n",
       "                        });\n",
       "                </script>"
      ],
      "text/plain": [
       "<IPython.core.display.HTML object>"
      ]
     },
     "metadata": {},
     "output_type": "display_data"
    },
    {
     "name": "stdout",
     "output_type": "stream",
     "text": [
      "2\n"
     ]
    },
    {
     "data": {
      "text/html": [
       "\n",
       "                <div id='midiPlayerDiv61858'></div>\n",
       "                <link rel=\"stylesheet\" href=\"//cuthbertLab.github.io/music21j/css/m21.css\"\n",
       "                    type=\"text/css\" />\n",
       "                <script>\n",
       "                require.config({\n",
       "                    paths: {'music21': '//cuthbertLab.github.io/music21j/src/music21'}\n",
       "                });\n",
       "                require(['music21'], function() {\n",
       "                               mp = new music21.miditools.MidiPlayer();\n",
       "                               mp.addPlayer('#midiPlayerDiv61858');\n",
       "                               mp.base64Load('data:audio/midi;base64,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');\n",
       "                        });\n",
       "                </script>"
      ],
      "text/plain": [
       "<IPython.core.display.HTML object>"
      ]
     },
     "metadata": {},
     "output_type": "display_data"
    }
   ],
   "source": [
    "print('GRU')\n",
    "for i in generate():\n",
    "    print(i)\n",
    "    music21.midi.translate.midiFilePathToStream('melodies/gru/GRU_{}.mid'.format(i)).show('midi')"
   ]
  },
  {
   "cell_type": "markdown",
   "metadata": {},
   "source": [
    "#### RNN"
   ]
  },
  {
   "cell_type": "code",
   "execution_count": 44,
   "metadata": {},
   "outputs": [],
   "source": [
    "RNNmodel = buildModel(dictionaries, \n",
    "                      batch_length=maxlen-1, #Put here the number of notes (timesteps) you have in your Zero-padded matrices\n",
    "                      activation='RNN')\n",
    "\n",
    "with open('output/rnn/weights_4.pkl', 'rb') as f:\n",
    "    RNNmodel.set_weights(pickle.load(f))"
   ]
  },
  {
   "cell_type": "code",
   "execution_count": 45,
   "metadata": {},
   "outputs": [],
   "source": [
    "for i in range(32):\n",
    "    note = get_note()\n",
    "    melody = GRUmodel.predict([note[0], note[1]])\n",
    "    xP = np.array(list(map(lambda x: sample(x), melody[1][0])))\n",
    "    xT = np.array(list(map(lambda x: sample(x), melody[0][0])))\n",
    "    writeMIDI(xP, xT, dictionaries, 'melodies/rnn/RNN_{}.mid'.format(int(i)))"
   ]
  },
  {
   "cell_type": "code",
   "execution_count": 46,
   "metadata": {},
   "outputs": [
    {
     "name": "stdout",
     "output_type": "stream",
     "text": [
      "RNN\n",
      "10\n"
     ]
    },
    {
     "data": {
      "text/html": [
       "\n",
       "                <div id='midiPlayerDiv65547'></div>\n",
       "                <link rel=\"stylesheet\" href=\"//cuthbertLab.github.io/music21j/css/m21.css\"\n",
       "                    type=\"text/css\" />\n",
       "                <script>\n",
       "                require.config({\n",
       "                    paths: {'music21': '//cuthbertLab.github.io/music21j/src/music21'}\n",
       "                });\n",
       "                require(['music21'], function() {\n",
       "                               mp = new music21.miditools.MidiPlayer();\n",
       "                               mp.addPlayer('#midiPlayerDiv65547');\n",
       "                               mp.base64Load('data:audio/midi;base64,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');\n",
       "                        });\n",
       "                </script>"
      ],
      "text/plain": [
       "<IPython.core.display.HTML object>"
      ]
     },
     "metadata": {},
     "output_type": "display_data"
    },
    {
     "name": "stdout",
     "output_type": "stream",
     "text": [
      "18\n"
     ]
    },
    {
     "data": {
      "text/html": [
       "\n",
       "                <div id='midiPlayerDiv69254'></div>\n",
       "                <link rel=\"stylesheet\" href=\"//cuthbertLab.github.io/music21j/css/m21.css\"\n",
       "                    type=\"text/css\" />\n",
       "                <script>\n",
       "                require.config({\n",
       "                    paths: {'music21': '//cuthbertLab.github.io/music21j/src/music21'}\n",
       "                });\n",
       "                require(['music21'], function() {\n",
       "                               mp = new music21.miditools.MidiPlayer();\n",
       "                               mp.addPlayer('#midiPlayerDiv69254');\n",
       "                               mp.base64Load('data:audio/midi;base64,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');\n",
       "                        });\n",
       "                </script>"
      ],
      "text/plain": [
       "<IPython.core.display.HTML object>"
      ]
     },
     "metadata": {},
     "output_type": "display_data"
    },
    {
     "name": "stdout",
     "output_type": "stream",
     "text": [
      "6\n"
     ]
    },
    {
     "data": {
      "text/html": [
       "\n",
       "                <div id='midiPlayerDiv73114'></div>\n",
       "                <link rel=\"stylesheet\" href=\"//cuthbertLab.github.io/music21j/css/m21.css\"\n",
       "                    type=\"text/css\" />\n",
       "                <script>\n",
       "                require.config({\n",
       "                    paths: {'music21': '//cuthbertLab.github.io/music21j/src/music21'}\n",
       "                });\n",
       "                require(['music21'], function() {\n",
       "                               mp = new music21.miditools.MidiPlayer();\n",
       "                               mp.addPlayer('#midiPlayerDiv73114');\n",
       "                               mp.base64Load('data:audio/midi;base64,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');\n",
       "                        });\n",
       "                </script>"
      ],
      "text/plain": [
       "<IPython.core.display.HTML object>"
      ]
     },
     "metadata": {},
     "output_type": "display_data"
    },
    {
     "name": "stdout",
     "output_type": "stream",
     "text": [
      "0\n"
     ]
    },
    {
     "data": {
      "text/html": [
       "\n",
       "                <div id='midiPlayerDiv77190'></div>\n",
       "                <link rel=\"stylesheet\" href=\"//cuthbertLab.github.io/music21j/css/m21.css\"\n",
       "                    type=\"text/css\" />\n",
       "                <script>\n",
       "                require.config({\n",
       "                    paths: {'music21': '//cuthbertLab.github.io/music21j/src/music21'}\n",
       "                });\n",
       "                require(['music21'], function() {\n",
       "                               mp = new music21.miditools.MidiPlayer();\n",
       "                               mp.addPlayer('#midiPlayerDiv77190');\n",
       "                               mp.base64Load('data:audio/midi;base64,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');\n",
       "                        });\n",
       "                </script>"
      ],
      "text/plain": [
       "<IPython.core.display.HTML object>"
      ]
     },
     "metadata": {},
     "output_type": "display_data"
    }
   ],
   "source": [
    "print('RNN')\n",
    "for i in generate():\n",
    "    print(i)\n",
    "    music21.midi.translate.midiFilePathToStream('melodies/rnn/RNN_{}.mid'.format(i)).show('midi')"
   ]
  },
  {
   "cell_type": "markdown",
   "metadata": {},
   "source": [
    "**Question**: What is the effect of the sampling temperature on the generated melodies?\n",
    "    \n",
    "**Answer**: The higher the temperature ($t>1$) the more the variety and the less the harmonical correctness. The less the temperature ($0<t<1$), the less diverse the set of pitches and durations (as the sampling tends towards the values with higher probabilities) but more correct from the harmonical point of view.\n",
    "\n",
    "**Question**: Are the generated melodies from the RNN model different from the one generated by the GRU model? If yes, what are the main differences?\n",
    "\n",
    "**Answer**: Yes, they are different. GRU's melodies sound more mature that RNN's ones, which are significantly more random.\n",
    "\n"
   ]
  },
  {
   "cell_type": "code",
   "execution_count": null,
   "metadata": {},
   "outputs": [],
   "source": []
  }
 ],
 "metadata": {
  "anaconda-cloud": {},
  "kernelspec": {
   "display_name": "Python 3",
   "language": "python",
   "name": "python3"
  },
  "language_info": {
   "codemirror_mode": {
    "name": "ipython",
    "version": 3
   },
   "file_extension": ".py",
   "mimetype": "text/x-python",
   "name": "python",
   "nbconvert_exporter": "python",
   "pygments_lexer": "ipython3",
   "version": "3.6.3"
  }
 },
 "nbformat": 4,
 "nbformat_minor": 1
}
